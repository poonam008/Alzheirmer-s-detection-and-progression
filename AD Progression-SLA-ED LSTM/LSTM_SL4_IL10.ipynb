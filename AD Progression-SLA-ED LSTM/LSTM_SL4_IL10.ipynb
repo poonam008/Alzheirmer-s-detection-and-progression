{
 "cells": [
  {
   "cell_type": "code",
   "execution_count": 1,
   "id": "ad2dc55d",
   "metadata": {},
   "outputs": [],
   "source": [
    "import random\n",
    "import statistics\n",
    "import numpy as np\n",
    "import pandas as pd\n",
    "\n",
    "from sklearn import preprocessing\n",
    "from sklearn.preprocessing import MinMaxScaler\n",
    "from sklearn.model_selection import train_test_split\n",
    "\n",
    "from matplotlib import pyplot as plt\n",
    "from matplotlib import pyplot as pyplot"
   ]
  },
  {
   "cell_type": "markdown",
   "id": "f55dc6af",
   "metadata": {},
   "source": [
    "## Data Preprocessing"
   ]
  },
  {
   "cell_type": "code",
   "execution_count": 2,
   "id": "beab8394",
   "metadata": {},
   "outputs": [
    {
     "name": "stdout",
     "output_type": "stream",
     "text": [
      "(12741, 2)\n",
      "12734\n",
      "(12734, 2)\n"
     ]
    }
   ],
   "source": [
    "\n",
    "new_data = { 1:1,\n",
    "     2:2,\n",
    "     3:3,\n",
    "     4:2,\n",
    "     5:3,\n",
    "     6:3,\n",
    "     7:1,\n",
    "     8:2}\n",
    "dataset= pd.read_csv(\"./Temporal_Data.csv\", low_memory=False)\n",
    "dataset['EXAMDATE'] = pd.to_datetime(dataset['EXAMDATE'])\n",
    "sort_dataset = dataset.sort_values(by=['RID','EXAMDATE']).copy()\n",
    "important_feat = ['APOE4', 'AGE', 'PTEDUCAT', 'ADAS11_bl', 'ADAS13_bl', 'CDRSB_bl',\n",
    "'MMSE_bl', 'RAVLT_immediate_bl', 'RAVLT_learning_bl',\n",
    "'RAVLT_forgetting_bl', 'RAVLT_perc_forgetting_bl', 'FAQ_bl',\n",
    "'Ventricles_bl', 'Hippocampus_bl', 'WholeBrain_bl', 'Entorhinal_bl',\n",
    "'Fusiform_bl', 'MidTemp_bl', 'ICV_bl', 'FDG_bl'] \n",
    "label_name= \"DXCHANGE\"\n",
    "filter_dataset1 = sort_dataset[important_feat].copy()\n",
    "scaler = MinMaxScaler()\n",
    "scaler.fit(filter_dataset1)\n",
    "scaled =  scaler.fit_transform(filter_dataset1)\n",
    "filter_dataset = pd.DataFrame(scaled, columns=filter_dataset1.columns, index=filter_dataset1.index)\n",
    "filter_dataset.interpolate(method='linear',inplace=True)\n",
    "label_data = sort_dataset[[\"RID\",label_name]].copy()\n",
    "print(label_data[~(label_data[\"RID\"].isnull())].shape)\n",
    "label_data[label_name]= label_data.groupby(\"RID\").transform(lambda x: x.fillna(method=\"ffill\"))\n",
    "null_index = label_data[label_data[\"DXCHANGE\"].isnull()].index\n",
    "label_data = label_data[~(label_data.index.isin(null_index))].copy()\n",
    "filter_dataset = filter_dataset[~(filter_dataset.index.isin(null_index))].copy()\n",
    "feat_values = [list(i) for i in filter_dataset.values]\n",
    "feat_dataframe =  pd.DataFrame()\n",
    "feat_dataframe[\"feat\"]= feat_values\n",
    "feat_dataframe[\"RID\"]= label_data[\"RID\"]\n",
    "datasequence = feat_dataframe.groupby('RID')['feat'].apply(list).reset_index(name='sequence')\n",
    "tmp = label_data.groupby(\"RID\")[label_name].apply(list).reset_index(name='class_label_encoded_seq')\n",
    "assert tmp.shape== datasequence.shape\n",
    "\n",
    "\n",
    "# print(label_data, end =\"\\n\\n\")\n",
    "\n",
    "label_data1 = label_data.replace({\"DXCHANGE\":new_data})\n",
    "one_hot_encoded_label = pd.get_dummies(label_data1, columns = [label_name])\n",
    "one_hot_encoded_label_list = [list(i) for i in one_hot_encoded_label[one_hot_encoded_label.columns[1:]].values]\n",
    "print(len(one_hot_encoded_label_list))\n",
    "print(label_data1.shape)\n",
    "label_data1[\"class_label_encoded\"] = one_hot_encoded_label_list\n",
    "labelsequence =  label_data1.groupby(\"RID\")[\"class_label_encoded\"].apply(list).reset_index(name='class_label_encoded_seq')\n",
    "assert np.all(tmp[\"RID\"]== datasequence[\"RID\"])\n",
    "assert np.all(tmp[\"RID\"]== labelsequence[\"RID\"])\n",
    "labelsequence[\"length\"]= labelsequence[\"class_label_encoded_seq\"].apply(lambda x: len(x))\n",
    "datasequence=datasequence.copy()\n",
    "labelsequence= labelsequence.copy()"
   ]
  },
  {
   "cell_type": "code",
   "execution_count": 3,
   "id": "50754217",
   "metadata": {},
   "outputs": [
    {
     "data": {
      "text/plain": [
       "Index(['RID', 'class_label_encoded_seq', 'length'], dtype='object')"
      ]
     },
     "execution_count": 3,
     "metadata": {},
     "output_type": "execute_result"
    }
   ],
   "source": [
    "labelsequence.columns"
   ]
  },
  {
   "cell_type": "code",
   "execution_count": 4,
   "id": "1c721b4a",
   "metadata": {},
   "outputs": [],
   "source": [
    "datasequence['len']=datasequence['sequence'].apply(lambda x : len(x))"
   ]
  },
  {
   "cell_type": "code",
   "execution_count": 5,
   "id": "489c2023",
   "metadata": {},
   "outputs": [
    {
     "data": {
      "text/plain": [
       "Index(['RID', 'sequence', 'len'], dtype='object')"
      ]
     },
     "execution_count": 5,
     "metadata": {},
     "output_type": "execute_result"
    }
   ],
   "source": [
    "datasequence.columns"
   ]
  },
  {
   "cell_type": "code",
   "execution_count": 6,
   "id": "c2f971f7",
   "metadata": {},
   "outputs": [
    {
     "name": "stdout",
     "output_type": "stream",
     "text": [
      "2079 2079.0\n",
      "12 11\n",
      "2380 2380.0\n",
      "11 10\n",
      "4167 4167.0\n",
      "10 9\n",
      "4199 4199.0\n",
      "10 9\n",
      "4512 4512.0\n",
      "8 7\n",
      "4556 4556.0\n",
      "8 7\n",
      "4557 4557.0\n",
      "9 8\n"
     ]
    }
   ],
   "source": [
    "for i,j in zip(labelsequence.values, datasequence.values):\n",
    "    if i[-1]!=j[-1]:\n",
    "        print(i[0], j[0])\n",
    "        print(i[-1],j[-1])"
   ]
  },
  {
   "cell_type": "code",
   "execution_count": 7,
   "id": "b7be8b3f",
   "metadata": {},
   "outputs": [
    {
     "data": {
      "text/plain": [
       "5421     2.0\n",
       "3373     NaN\n",
       "9370     2.0\n",
       "3374     2.0\n",
       "9371     NaN\n",
       "9372     2.0\n",
       "9373     NaN\n",
       "11389    2.0\n",
       "12038    2.0\n",
       "12704    2.0\n",
       "12740    NaN\n",
       "Name: DXCHANGE, dtype: float64"
      ]
     },
     "execution_count": 7,
     "metadata": {},
     "output_type": "execute_result"
    }
   ],
   "source": [
    "sort_dataset[sort_dataset[\"RID\"]==2380.0][\"DXCHANGE\"]"
   ]
  },
  {
   "cell_type": "code",
   "execution_count": 8,
   "id": "9da11360",
   "metadata": {},
   "outputs": [],
   "source": [
    "def get_data():\n",
    "    new_data = { 1:1,\n",
    "         2:2,\n",
    "         3:3,\n",
    "         4:2,\n",
    "         5:3,\n",
    "         6:3,\n",
    "         7:1,\n",
    "         8:2}\n",
    "    dataset= pd.read_csv(\"./Temporal_Data.csv\", low_memory=False)\n",
    "    dataset['EXAMDATE'] = pd.to_datetime(dataset['EXAMDATE'])\n",
    "    sort_dataset = dataset.sort_values(by=['RID','EXAMDATE']).copy()\n",
    "    important_feat = ['APOE4', 'AGE', 'PTEDUCAT', 'ADAS11_bl', 'ADAS13_bl', 'CDRSB_bl',\n",
    "    'MMSE_bl', 'RAVLT_immediate_bl', 'RAVLT_learning_bl',\n",
    "    'RAVLT_forgetting_bl', 'RAVLT_perc_forgetting_bl', 'FAQ_bl',\n",
    "    'Ventricles_bl', 'Hippocampus_bl', 'WholeBrain_bl', 'Entorhinal_bl',\n",
    "    'Fusiform_bl', 'MidTemp_bl', 'ICV_bl', 'FDG_bl'] \n",
    "    label_name= \"DXCHANGE\"\n",
    "    filter_dataset1 = sort_dataset[important_feat].copy()\n",
    "    scaler = MinMaxScaler()\n",
    "    scaler.fit(filter_dataset1)\n",
    "    scaled =  scaler.fit_transform(filter_dataset1)\n",
    "    filter_dataset = pd.DataFrame(scaled, columns=filter_dataset1.columns, index=filter_dataset1.index) #small change\n",
    "    filter_dataset.interpolate(method='linear',inplace=True)\n",
    "    label_data = sort_dataset[[\"RID\",label_name]].copy()\n",
    "    print(label_data[~(label_data[\"RID\"].isnull())].shape)\n",
    "    label_data[label_name]= label_data.groupby(\"RID\").transform(lambda x: x.fillna(method=\"ffill\"))\n",
    "    null_index = label_data[label_data[\"DXCHANGE\"].isnull()].index\n",
    "    label_data = label_data[~(label_data.index.isin(null_index))].copy()\n",
    "    filter_dataset = filter_dataset[~(filter_dataset.index.isin(null_index))].copy()\n",
    "    feat_values = [list(i) for i in filter_dataset.values]\n",
    "    feat_dataframe =  pd.DataFrame()\n",
    "    feat_dataframe[\"feat\"]= feat_values\n",
    "    feat_dataframe[\"RID\"]= label_data[\"RID\"]\n",
    "    datasequence = feat_dataframe.groupby('RID')['feat'].apply(list).reset_index(name='sequence')\n",
    "    tmp = label_data.groupby(\"RID\")[label_name].apply(list).reset_index(name='class_label_encoded_seq')\n",
    "    assert tmp.shape== datasequence.shape\n",
    "    \n",
    "\n",
    "    # print(label_data, end =\"\\n\\n\")\n",
    "\n",
    "    label_data1 = label_data.replace({\"DXCHANGE\":new_data})\n",
    "    one_hot_encoded_label = pd.get_dummies(label_data1, columns = [label_name])\n",
    "    one_hot_encoded_label_list = [list(i) for i in one_hot_encoded_label[one_hot_encoded_label.columns[1:]].values]\n",
    "    print(len(one_hot_encoded_label_list))\n",
    "    print(label_data1.shape)\n",
    "    label_data1[\"class_label_encoded\"] = one_hot_encoded_label_list\n",
    "    labelsequence =  label_data1.groupby(\"RID\")[\"class_label_encoded\"].apply(list).reset_index(name='class_label_encoded_seq')\n",
    "    assert np.all(tmp[\"RID\"]== datasequence[\"RID\"])\n",
    "    assert np.all(tmp[\"RID\"]== labelsequence[\"RID\"])\n",
    "    labelsequence[\"length\"]= labelsequence[\"class_label_encoded_seq\"].apply(lambda x: len(x))\n",
    "    datasequence=datasequence.copy()\n",
    "    labelsequence= labelsequence.copy()\n",
    "    return datasequence, labelsequence"
   ]
  },
  {
   "cell_type": "code",
   "execution_count": 9,
   "id": "5b3fb718",
   "metadata": {},
   "outputs": [
    {
     "name": "stdout",
     "output_type": "stream",
     "text": [
      "(12741, 2)\n",
      "12734\n",
      "(12734, 2)\n"
     ]
    }
   ],
   "source": [
    "datasequence, labelsequence = get_data()"
   ]
  },
  {
   "cell_type": "code",
   "execution_count": 10,
   "id": "91e2ba97",
   "metadata": {},
   "outputs": [],
   "source": [
    "def data_aug2(datasequence,labelsequence, window_size=12, stride=1):\n",
    "    x_trainn=[]\n",
    "    y_trainn=[]\n",
    "    x_testt=[]\n",
    "    y_testt=[]\n",
    "    datasequence  = datasequence.copy()\n",
    "    labelsequence = labelsequence.copy()\n",
    "    X_train, X_test, y_train, y_test = train_test_split(datasequence[\"sequence\"], labelsequence[\"class_label_encoded_seq\"], random_state = 3, test_size=0.10)\n",
    "    for x,y in zip(X_train, y_train):\n",
    "        if len(x) and len(y) > window_size:\n",
    "            for i in range(0,len(x)-window_size+1,stride):\n",
    "                x_trainn.append(x[i:window_size+i])\n",
    "                y_trainn.append(y[i:window_size+i])\n",
    "        else:\n",
    "            x_trainn.append((window_size-len(x))*[x[0]]+x)\n",
    "            y_trainn.append((window_size-len(y))*[y[0]]+y)\n",
    "    for x,y in zip(X_test, y_test):\n",
    "        if len(x) and len(y) > window_size:\n",
    "            for i in range(0,len(x)-window_size+1,stride):\n",
    "                x_testt.append(x[i:window_size+i])\n",
    "                y_testt.append(y[i:window_size+i])\n",
    "        else:\n",
    "            x_testt.append((window_size-len(x))*[x[0]]+x)\n",
    "            y_testt.append((window_size-len(y))*[y[0]]+y) #small change\n",
    "    #print(len(y_trainn[0]))\n",
    "    x_trainn = np.array([np.array([np.array(feat) for feat in temp]) for temp in x_trainn])\n",
    "    y_trainn = np.array([np.array([np.array(feat) for feat in temp]) for temp in y_trainn])\n",
    "    x_testt  = np.array([np.array([np.array(feat) for feat in temp]) for temp in x_testt])\n",
    "    y_testt  = np.array([np.array([np.array(feat) for feat in temp]) for temp in y_testt])\n",
    "    #print(y_trainn.shape)\n",
    "    Xtrain_enc, y_train_decoder, y_train = x_trainn, y_trainn[:,0:-1,:], y_trainn[:,1:,:]\n",
    "    X_test_enc, y_test_decoder, y_test = x_testt, y_testt[:,0:-1,:], y_testt[:,1:,:]\n",
    "    return Xtrain_enc, y_train_decoder, y_train, X_test_enc, y_test_decoder, y_test"
   ]
  },
  {
   "cell_type": "code",
   "execution_count": null,
   "id": "971fe3d1",
   "metadata": {},
   "outputs": [],
   "source": []
  },
  {
   "cell_type": "code",
   "execution_count": 11,
   "id": "03be6cc5",
   "metadata": {},
   "outputs": [],
   "source": [
    "#     Xtrain_enc, y_train_decoder, y_train = x_trainn, y_trainn[:,0:-1,:], y_trainn[:,1:,:]\n",
    "#     X_test_enc, y_test_decoder, y_test = x_testt, y_testt[:,0:-1,:], y_testt[:,1:,:]\n",
    "#     return Xtrain_enc, y_train_decoder, y_train, X_test_enc, y_test_decoder, y_test"
   ]
  },
  {
   "cell_type": "code",
   "execution_count": 12,
   "id": "aadd3c71",
   "metadata": {},
   "outputs": [
    {
     "name": "stdout",
     "output_type": "stream",
     "text": [
      "(12741, 2)\n",
      "12734\n",
      "(12734, 2)\n"
     ]
    }
   ],
   "source": [
    "datasequence, labelsequence = get_data()"
   ]
  },
  {
   "cell_type": "code",
   "execution_count": 13,
   "id": "2682360a",
   "metadata": {},
   "outputs": [],
   "source": [
    "Xtrain_enc, y_train_decoder, y_train, X_test_enc, y_test_decoder, y_test=data_aug2(datasequence,labelsequence, window_size=12, stride=1)"
   ]
  },
  {
   "cell_type": "code",
   "execution_count": 14,
   "id": "208a00b4",
   "metadata": {},
   "outputs": [],
   "source": [
    "repeat_index= 3"
   ]
  },
  {
   "cell_type": "code",
   "execution_count": 15,
   "id": "a98b8ece",
   "metadata": {},
   "outputs": [
    {
     "data": {
      "text/plain": [
       "(2314, 12, 20)"
      ]
     },
     "execution_count": 15,
     "metadata": {},
     "output_type": "execute_result"
    }
   ],
   "source": [
    "Xtrain_enc.shape"
   ]
  },
  {
   "cell_type": "code",
   "execution_count": 16,
   "id": "cfa7e6c6",
   "metadata": {},
   "outputs": [],
   "source": [
    "repeat_till=Xtrain_enc.shape[1]-repeat_index-1"
   ]
  },
  {
   "cell_type": "code",
   "execution_count": 17,
   "id": "6eedc0f4",
   "metadata": {},
   "outputs": [
    {
     "data": {
      "text/plain": [
       "8"
      ]
     },
     "execution_count": 17,
     "metadata": {},
     "output_type": "execute_result"
    }
   ],
   "source": [
    "repeat_till"
   ]
  },
  {
   "cell_type": "code",
   "execution_count": 18,
   "id": "4e25584d",
   "metadata": {},
   "outputs": [],
   "source": [
    "c_Xtrain_enc=Xtrain_enc.copy()"
   ]
  },
  {
   "cell_type": "code",
   "execution_count": 19,
   "id": "8fd7cbda",
   "metadata": {},
   "outputs": [],
   "source": [
    "tmp1 = np.repeat(Xtrain_enc[:, repeat_index, :], repeat_till, axis=0).reshape(-1,repeat_till,20)\n",
    "Xtrain_enc[:,repeat_index+1:,:]=tmp1\n",
    "\n",
    "tmp2 = np.repeat(X_test_enc[:, repeat_index, :], repeat_till, axis=0).reshape(-1,repeat_till,20)\n",
    "X_test_enc[:,repeat_index+1:,:]=tmp2"
   ]
  },
  {
   "cell_type": "code",
   "execution_count": 20,
   "id": "ae35b1ac",
   "metadata": {},
   "outputs": [
    {
     "data": {
      "text/plain": [
       "array([0.        , 0.71891892, 1.        , 0.47644715, 0.59136638,\n",
       "       0.25      , 0.75      , 0.36619718, 0.4375    , 0.55      ,\n",
       "       1.        , 0.4       , 0.45629369, 0.23836462, 0.2005875 ,\n",
       "       0.04071588, 0.19237559, 0.22604541, 0.39044176, 0.2363111 ])"
      ]
     },
     "execution_count": 20,
     "metadata": {},
     "output_type": "execute_result"
    }
   ],
   "source": [
    "c_Xtrain_enc[1,3,:]"
   ]
  },
  {
   "cell_type": "code",
   "execution_count": 21,
   "id": "e42199d4",
   "metadata": {},
   "outputs": [
    {
     "data": {
      "text/plain": [
       "array([ True,  True,  True,  True,  True,  True,  True,  True,  True,\n",
       "        True,  True,  True,  True,  True,  True,  True,  True,  True,\n",
       "        True,  True])"
      ]
     },
     "execution_count": 21,
     "metadata": {},
     "output_type": "execute_result"
    }
   ],
   "source": [
    "c_Xtrain_enc[20,2,:]==Xtrain_enc[20,11,:]"
   ]
  },
  {
   "cell_type": "code",
   "execution_count": 22,
   "id": "a5b47eb2",
   "metadata": {},
   "outputs": [
    {
     "data": {
      "text/plain": [
       "2314"
      ]
     },
     "execution_count": 22,
     "metadata": {},
     "output_type": "execute_result"
    }
   ],
   "source": [
    "len(Xtrain_enc)"
   ]
  },
  {
   "cell_type": "code",
   "execution_count": 23,
   "id": "8d1a6e9f",
   "metadata": {},
   "outputs": [
    {
     "data": {
      "text/plain": [
       "2314"
      ]
     },
     "execution_count": 23,
     "metadata": {},
     "output_type": "execute_result"
    }
   ],
   "source": [
    "len(y_train_decoder)"
   ]
  },
  {
   "cell_type": "code",
   "execution_count": 24,
   "id": "fc808776",
   "metadata": {},
   "outputs": [
    {
     "data": {
      "text/plain": [
       "((2314, 12, 20), (2314, 11, 3), (2314, 11, 3))"
      ]
     },
     "execution_count": 24,
     "metadata": {},
     "output_type": "execute_result"
    }
   ],
   "source": [
    "Xtrain_enc.shape, y_train_decoder.shape, y_train.shape"
   ]
  },
  {
   "cell_type": "code",
   "execution_count": 25,
   "id": "fd2d1436",
   "metadata": {},
   "outputs": [
    {
     "data": {
      "text/plain": [
       "((238, 12, 20), (238, 11, 3), (238, 11, 3))"
      ]
     },
     "execution_count": 25,
     "metadata": {},
     "output_type": "execute_result"
    }
   ],
   "source": [
    "X_test_enc.shape, y_test_decoder.shape, y_test.shape"
   ]
  },
  {
   "cell_type": "markdown",
   "id": "87141d22",
   "metadata": {},
   "source": [
    "## Model Training"
   ]
  },
  {
   "cell_type": "code",
   "execution_count": 26,
   "id": "abe9a6b3",
   "metadata": {},
   "outputs": [
    {
     "name": "stderr",
     "output_type": "stream",
     "text": [
      "2023-09-23 16:34:00.088423: I tensorflow/core/platform/cpu_feature_guard.cc:193] This TensorFlow binary is optimized with oneAPI Deep Neural Network Library (oneDNN) to use the following CPU instructions in performance-critical operations:  AVX2 AVX512F FMA\n",
      "To enable them in other operations, rebuild TensorFlow with the appropriate compiler flags.\n",
      "2023-09-23 16:34:00.246250: W tensorflow/compiler/xla/stream_executor/platform/default/dso_loader.cc:64] Could not load dynamic library 'libcudart.so.11.0'; dlerror: libcudart.so.11.0: cannot open shared object file: No such file or directory\n",
      "2023-09-23 16:34:00.246283: I tensorflow/compiler/xla/stream_executor/cuda/cudart_stub.cc:29] Ignore above cudart dlerror if you do not have a GPU set up on your machine.\n",
      "2023-09-23 16:34:00.885702: W tensorflow/compiler/xla/stream_executor/platform/default/dso_loader.cc:64] Could not load dynamic library 'libnvinfer.so.7'; dlerror: libnvinfer.so.7: cannot open shared object file: No such file or directory\n",
      "2023-09-23 16:34:00.885787: W tensorflow/compiler/xla/stream_executor/platform/default/dso_loader.cc:64] Could not load dynamic library 'libnvinfer_plugin.so.7'; dlerror: libnvinfer_plugin.so.7: cannot open shared object file: No such file or directory\n",
      "2023-09-23 16:34:00.885796: W tensorflow/compiler/tf2tensorrt/utils/py_utils.cc:38] TF-TRT Warning: Cannot dlopen some TensorRT libraries. If you would like to use Nvidia GPU with TensorRT, please make sure the missing libraries mentioned above are installed properly.\n"
     ]
    }
   ],
   "source": [
    "import tensorflow as tf\n",
    "from tensorflow import keras\n",
    "from tensorflow.keras import layers\n",
    "from keras.utils.vis_utils import plot_model\n",
    "from keras.models import Model\n",
    "from keras.optimizers import SGD, Adam, RMSprop"
   ]
  },
  {
   "cell_type": "code",
   "execution_count": 27,
   "id": "4e08a803",
   "metadata": {},
   "outputs": [],
   "source": [
    "num_class  =  y_test.shape[2]\n",
    "latent_dim =  64\n",
    "seq_len    =  y_train.shape[1]"
   ]
  },
  {
   "cell_type": "code",
   "execution_count": 28,
   "id": "54159bac",
   "metadata": {},
   "outputs": [
    {
     "name": "stderr",
     "output_type": "stream",
     "text": [
      "2023-09-23 16:34:01.707192: W tensorflow/compiler/xla/stream_executor/platform/default/dso_loader.cc:64] Could not load dynamic library 'libcudart.so.11.0'; dlerror: libcudart.so.11.0: cannot open shared object file: No such file or directory\n",
      "2023-09-23 16:34:01.707282: W tensorflow/compiler/xla/stream_executor/platform/default/dso_loader.cc:64] Could not load dynamic library 'libcublas.so.11'; dlerror: libcublas.so.11: cannot open shared object file: No such file or directory\n",
      "2023-09-23 16:34:01.707330: W tensorflow/compiler/xla/stream_executor/platform/default/dso_loader.cc:64] Could not load dynamic library 'libcublasLt.so.11'; dlerror: libcublasLt.so.11: cannot open shared object file: No such file or directory\n",
      "2023-09-23 16:34:01.707377: W tensorflow/compiler/xla/stream_executor/platform/default/dso_loader.cc:64] Could not load dynamic library 'libcufft.so.10'; dlerror: libcufft.so.10: cannot open shared object file: No such file or directory\n",
      "2023-09-23 16:34:01.707422: W tensorflow/compiler/xla/stream_executor/platform/default/dso_loader.cc:64] Could not load dynamic library 'libcurand.so.10'; dlerror: libcurand.so.10: cannot open shared object file: No such file or directory\n",
      "2023-09-23 16:34:01.707469: W tensorflow/compiler/xla/stream_executor/platform/default/dso_loader.cc:64] Could not load dynamic library 'libcusolver.so.11'; dlerror: libcusolver.so.11: cannot open shared object file: No such file or directory\n",
      "2023-09-23 16:34:01.707514: W tensorflow/compiler/xla/stream_executor/platform/default/dso_loader.cc:64] Could not load dynamic library 'libcusparse.so.11'; dlerror: libcusparse.so.11: cannot open shared object file: No such file or directory\n",
      "2023-09-23 16:34:01.707561: W tensorflow/compiler/xla/stream_executor/platform/default/dso_loader.cc:64] Could not load dynamic library 'libcudnn.so.8'; dlerror: libcudnn.so.8: cannot open shared object file: No such file or directory\n",
      "2023-09-23 16:34:01.707579: W tensorflow/core/common_runtime/gpu/gpu_device.cc:1934] Cannot dlopen some GPU libraries. Please make sure the missing libraries mentioned above are installed properly if you would like to use GPU. Follow the guide at https://www.tensorflow.org/install/gpu for how to download and setup the required libraries for your platform.\n",
      "Skipping registering GPU devices...\n",
      "2023-09-23 16:34:01.708028: I tensorflow/core/platform/cpu_feature_guard.cc:193] This TensorFlow binary is optimized with oneAPI Deep Neural Network Library (oneDNN) to use the following CPU instructions in performance-critical operations:  AVX2 AVX512F FMA\n",
      "To enable them in other operations, rebuild TensorFlow with the appropriate compiler flags.\n"
     ]
    },
    {
     "name": "stdout",
     "output_type": "stream",
     "text": [
      "(None, 12, 64)\n",
      "(None, 11, 128)\n"
     ]
    }
   ],
   "source": [
    "encoder_inputs= layers.Input(shape=(Xtrain_enc.shape[1],Xtrain_enc.shape[2]))\n",
    "\n",
    "# Return states in addition to output\n",
    "encoder_lstm = layers.LSTM(latent_dim, return_state=True, return_sequences=True, name=\"encoder\")#return_sequences=True\n",
    "encoder_outputs, state_h, state_c = encoder_lstm(encoder_inputs)\n",
    "encoder_states = [state_h, state_c]\n",
    "print(encoder_outputs.shape)\n",
    "\n",
    "decoder_inputs = layers.Input(shape=(None,y_train.shape[2]))\n",
    "decoder_lstm  = layers.LSTM(latent_dim, return_state=True,return_sequences=True, name=\"decoder\")#recurrent_dropout=0.2 #return_sequences=True\n",
    "decoder_outputs, _, _  = decoder_lstm(decoder_inputs, initial_state=encoder_states,)\n",
    "#reshape_h = layers.Reshape((1,128))(state_h)\n",
    "concat_layer = layers.Concatenate(name=\"concatenate\")\n",
    "decoder_outputs = concat_layer([decoder_outputs,encoder_outputs[:,1:,:]])\n",
    "\n",
    "print(decoder_outputs.shape)\n",
    "#dense1 =  layers.Dense(64, activation='relu')\n",
    "decoder_dense =  layers.Dense(num_class,  activation='softmax', name=\"output\")\n",
    "#output = dense1(output)\n",
    "\n",
    "decoder_outputs = decoder_dense(decoder_outputs)\n",
    "\n",
    "model = keras.Model([encoder_inputs,decoder_inputs], decoder_outputs)"
   ]
  },
  {
   "cell_type": "code",
   "execution_count": 29,
   "id": "31719a1d",
   "metadata": {},
   "outputs": [
    {
     "data": {
      "text/plain": [
       "(2314, 11, 3)"
      ]
     },
     "execution_count": 29,
     "metadata": {},
     "output_type": "execute_result"
    }
   ],
   "source": [
    "y_train.shape"
   ]
  },
  {
   "cell_type": "code",
   "execution_count": 30,
   "id": "0b5daac8",
   "metadata": {},
   "outputs": [
    {
     "data": {
      "text/plain": [
       "TensorShape([None, 12, 64])"
      ]
     },
     "execution_count": 30,
     "metadata": {},
     "output_type": "execute_result"
    }
   ],
   "source": [
    "encoder_outputs.shape"
   ]
  },
  {
   "cell_type": "code",
   "execution_count": 31,
   "id": "a1dc3eb4",
   "metadata": {},
   "outputs": [
    {
     "name": "stdout",
     "output_type": "stream",
     "text": [
      "(None, 12, 64)\n",
      "(None, 64)\n",
      "(None, 64)\n"
     ]
    }
   ],
   "source": [
    "print (encoder_outputs.shape)\n",
    "print(state_h.shape)\n",
    "print(state_c.shape)"
   ]
  },
  {
   "cell_type": "code",
   "execution_count": 32,
   "id": "8ff83a9f",
   "metadata": {},
   "outputs": [
    {
     "name": "stdout",
     "output_type": "stream",
     "text": [
      "Model: \"model\"\n",
      "__________________________________________________________________________________________________\n",
      " Layer (type)                   Output Shape         Param #     Connected to                     \n",
      "==================================================================================================\n",
      " input_1 (InputLayer)           [(None, 12, 20)]     0           []                               \n",
      "                                                                                                  \n",
      " input_2 (InputLayer)           [(None, None, 3)]    0           []                               \n",
      "                                                                                                  \n",
      " encoder (LSTM)                 [(None, 12, 64),     21760       ['input_1[0][0]']                \n",
      "                                 (None, 64),                                                      \n",
      "                                 (None, 64)]                                                      \n",
      "                                                                                                  \n",
      " decoder (LSTM)                 [(None, None, 64),   17408       ['input_2[0][0]',                \n",
      "                                 (None, 64),                      'encoder[0][1]',                \n",
      "                                 (None, 64)]                      'encoder[0][2]']                \n",
      "                                                                                                  \n",
      " tf.__operators__.getitem (Slic  (None, 11, 64)      0           ['encoder[0][0]']                \n",
      " ingOpLambda)                                                                                     \n",
      "                                                                                                  \n",
      " concatenate (Concatenate)      (None, 11, 128)      0           ['decoder[0][0]',                \n",
      "                                                                  'tf.__operators__.getitem[0][0]'\n",
      "                                                                 ]                                \n",
      "                                                                                                  \n",
      " output (Dense)                 (None, 11, 3)        387         ['concatenate[0][0]']            \n",
      "                                                                                                  \n",
      "==================================================================================================\n",
      "Total params: 39,555\n",
      "Trainable params: 39,555\n",
      "Non-trainable params: 0\n",
      "__________________________________________________________________________________________________\n"
     ]
    }
   ],
   "source": [
    "model.summary()"
   ]
  },
  {
   "cell_type": "code",
   "execution_count": 33,
   "id": "b16fcf22",
   "metadata": {},
   "outputs": [
    {
     "data": {
      "image/png": "[encoded data removed]",
      "text/plain": [
       "<IPython.core.display.Image object>"
      ]
     },
     "execution_count": 33,
     "metadata": {},
     "output_type": "execute_result"
    }
   ],
   "source": [
    "plot_model(model, to_file='model_plot.png', show_shapes=True, show_layer_names=True)"
   ]
  },
  {
   "cell_type": "code",
   "execution_count": 34,
   "id": "37564406",
   "metadata": {},
   "outputs": [],
   "source": [
    "# opt = Adam(learning_rate=0.001)\n",
    "# model.compile(optimizer=opt, loss=\"categorical_crossentropy\", metrics=[\"accuracy\"])"
   ]
  },
  {
   "cell_type": "code",
   "execution_count": 35,
   "id": "213a3bae",
   "metadata": {},
   "outputs": [],
   "source": [
    "# callback = tf.keras.callbacks.EarlyStopping(monitor='val_accuracy', patience=10)# new line added"
   ]
  },
  {
   "cell_type": "code",
   "execution_count": 36,
   "id": "ca39ceba",
   "metadata": {},
   "outputs": [],
   "source": [
    "# callback = tf.keras.callbacks.EarlyStopping(monitor='val_accuracy')# new line added"
   ]
  },
  {
   "cell_type": "code",
   "execution_count": 37,
   "id": "588f1437",
   "metadata": {},
   "outputs": [],
   "source": [
    "opt = RMSprop(learning_rate=0.001)\n",
    "model.compile(optimizer=opt, loss=\"categorical_crossentropy\", metrics=[\"accuracy\"])"
   ]
  },
  {
   "cell_type": "code",
   "execution_count": 38,
   "id": "0a00c3b5",
   "metadata": {},
   "outputs": [
    {
     "name": "stdout",
     "output_type": "stream",
     "text": [
      "Epoch 1/50\n",
      "19/19 [==============================] - 4s 76ms/step - loss: 0.8301 - accuracy: 0.7131 - val_loss: 0.5920 - val_accuracy: 0.8231\n",
      "Epoch 2/50\n",
      "19/19 [==============================] - 1s 34ms/step - loss: 0.5248 - accuracy: 0.8638 - val_loss: 0.4311 - val_accuracy: 0.8932\n",
      "Epoch 3/50\n",
      "19/19 [==============================] - 1s 33ms/step - loss: 0.4245 - accuracy: 0.8848 - val_loss: 0.3522 - val_accuracy: 0.9034\n",
      "Epoch 4/50\n",
      "19/19 [==============================] - 1s 34ms/step - loss: 0.3578 - accuracy: 0.9088 - val_loss: 0.2935 - val_accuracy: 0.9236\n",
      "Epoch 5/50\n",
      "19/19 [==============================] - 1s 34ms/step - loss: 0.3107 - accuracy: 0.9187 - val_loss: 0.2548 - val_accuracy: 0.9338\n",
      "Epoch 6/50\n",
      "19/19 [==============================] - 1s 33ms/step - loss: 0.2706 - accuracy: 0.9256 - val_loss: 0.3035 - val_accuracy: 0.8877\n",
      "Epoch 7/50\n",
      "19/19 [==============================] - 1s 33ms/step - loss: 0.2479 - accuracy: 0.9328 - val_loss: 0.2055 - val_accuracy: 0.9525\n",
      "Epoch 8/50\n",
      "19/19 [==============================] - 1s 33ms/step - loss: 0.2270 - accuracy: 0.9411 - val_loss: 0.2004 - val_accuracy: 0.9643\n",
      "Epoch 9/50\n",
      "19/19 [==============================] - 1s 31ms/step - loss: 0.2097 - accuracy: 0.9457 - val_loss: 0.1772 - val_accuracy: 0.9651\n",
      "Epoch 10/50\n",
      "19/19 [==============================] - 1s 33ms/step - loss: 0.1962 - accuracy: 0.9507 - val_loss: 0.1641 - val_accuracy: 0.9576\n",
      "Epoch 11/50\n",
      "19/19 [==============================] - 1s 32ms/step - loss: 0.1852 - accuracy: 0.9561 - val_loss: 0.1522 - val_accuracy: 0.9674\n",
      "Epoch 12/50\n",
      "19/19 [==============================] - 1s 34ms/step - loss: 0.1761 - accuracy: 0.9605 - val_loss: 0.1620 - val_accuracy: 0.9702\n",
      "Epoch 13/50\n",
      "19/19 [==============================] - 1s 34ms/step - loss: 0.1693 - accuracy: 0.9635 - val_loss: 0.1398 - val_accuracy: 0.9700\n",
      "Epoch 14/50\n",
      "19/19 [==============================] - 1s 33ms/step - loss: 0.1658 - accuracy: 0.9633 - val_loss: 0.1443 - val_accuracy: 0.9704\n",
      "Epoch 15/50\n",
      "19/19 [==============================] - 1s 33ms/step - loss: 0.1623 - accuracy: 0.9640 - val_loss: 0.1364 - val_accuracy: 0.9707\n",
      "Epoch 16/50\n",
      "19/19 [==============================] - 1s 34ms/step - loss: 0.1598 - accuracy: 0.9640 - val_loss: 0.1449 - val_accuracy: 0.9704\n",
      "Epoch 17/50\n",
      "19/19 [==============================] - 1s 37ms/step - loss: 0.1576 - accuracy: 0.9640 - val_loss: 0.1349 - val_accuracy: 0.9705\n",
      "Epoch 18/50\n",
      "19/19 [==============================] - 1s 35ms/step - loss: 0.1561 - accuracy: 0.9641 - val_loss: 0.1317 - val_accuracy: 0.9705\n",
      "Epoch 19/50\n",
      "19/19 [==============================] - 1s 34ms/step - loss: 0.1535 - accuracy: 0.9642 - val_loss: 0.1320 - val_accuracy: 0.9709\n",
      "Epoch 20/50\n",
      "19/19 [==============================] - 1s 35ms/step - loss: 0.1514 - accuracy: 0.9645 - val_loss: 0.1377 - val_accuracy: 0.9705\n",
      "Epoch 21/50\n",
      "19/19 [==============================] - 1s 34ms/step - loss: 0.1515 - accuracy: 0.9645 - val_loss: 0.1317 - val_accuracy: 0.9707\n",
      "Epoch 22/50\n",
      "19/19 [==============================] - 1s 33ms/step - loss: 0.1505 - accuracy: 0.9643 - val_loss: 0.1318 - val_accuracy: 0.9705\n",
      "Epoch 23/50\n",
      "19/19 [==============================] - 1s 33ms/step - loss: 0.1502 - accuracy: 0.9643 - val_loss: 0.1279 - val_accuracy: 0.9705\n",
      "Epoch 24/50\n",
      "19/19 [==============================] - 1s 33ms/step - loss: 0.1501 - accuracy: 0.9643 - val_loss: 0.1295 - val_accuracy: 0.9707\n",
      "Epoch 25/50\n",
      "19/19 [==============================] - 1s 36ms/step - loss: 0.1483 - accuracy: 0.9646 - val_loss: 0.1303 - val_accuracy: 0.9707\n",
      "Epoch 26/50\n",
      "19/19 [==============================] - 1s 34ms/step - loss: 0.1478 - accuracy: 0.9645 - val_loss: 0.1312 - val_accuracy: 0.9707\n",
      "Epoch 27/50\n",
      "19/19 [==============================] - 1s 34ms/step - loss: 0.1495 - accuracy: 0.9642 - val_loss: 0.1288 - val_accuracy: 0.9707\n",
      "Epoch 28/50\n",
      "19/19 [==============================] - 1s 33ms/step - loss: 0.1476 - accuracy: 0.9643 - val_loss: 0.1267 - val_accuracy: 0.9707\n",
      "Epoch 29/50\n",
      "19/19 [==============================] - 1s 34ms/step - loss: 0.1466 - accuracy: 0.9646 - val_loss: 0.1307 - val_accuracy: 0.9705\n",
      "Epoch 30/50\n",
      "19/19 [==============================] - 1s 33ms/step - loss: 0.1466 - accuracy: 0.9647 - val_loss: 0.1277 - val_accuracy: 0.9705\n",
      "Epoch 31/50\n",
      "19/19 [==============================] - 1s 33ms/step - loss: 0.1468 - accuracy: 0.9645 - val_loss: 0.1293 - val_accuracy: 0.9707\n",
      "Epoch 32/50\n",
      "19/19 [==============================] - 1s 33ms/step - loss: 0.1447 - accuracy: 0.9649 - val_loss: 0.1382 - val_accuracy: 0.9707\n",
      "Epoch 33/50\n",
      "19/19 [==============================] - 1s 32ms/step - loss: 0.1458 - accuracy: 0.9646 - val_loss: 0.1328 - val_accuracy: 0.9705\n",
      "Epoch 34/50\n",
      "19/19 [==============================] - 1s 32ms/step - loss: 0.1449 - accuracy: 0.9646 - val_loss: 0.1281 - val_accuracy: 0.9707\n",
      "Epoch 35/50\n",
      "19/19 [==============================] - 1s 33ms/step - loss: 0.1442 - accuracy: 0.9648 - val_loss: 0.1345 - val_accuracy: 0.9707\n",
      "Epoch 36/50\n",
      "19/19 [==============================] - 1s 33ms/step - loss: 0.1446 - accuracy: 0.9647 - val_loss: 0.1294 - val_accuracy: 0.9707\n",
      "Epoch 37/50\n",
      "19/19 [==============================] - 1s 33ms/step - loss: 0.1429 - accuracy: 0.9649 - val_loss: 0.1346 - val_accuracy: 0.9705\n",
      "Epoch 38/50\n",
      "19/19 [==============================] - 1s 36ms/step - loss: 0.1419 - accuracy: 0.9649 - val_loss: 0.1325 - val_accuracy: 0.9707\n",
      "Epoch 39/50\n",
      "19/19 [==============================] - 1s 34ms/step - loss: 0.1426 - accuracy: 0.9651 - val_loss: 0.1330 - val_accuracy: 0.9709\n",
      "Epoch 40/50\n",
      "19/19 [==============================] - 1s 34ms/step - loss: 0.1416 - accuracy: 0.9651 - val_loss: 0.1304 - val_accuracy: 0.9707\n",
      "Epoch 41/50\n",
      "19/19 [==============================] - 1s 33ms/step - loss: 0.1422 - accuracy: 0.9649 - val_loss: 0.1285 - val_accuracy: 0.9707\n",
      "Epoch 42/50\n",
      "19/19 [==============================] - 1s 35ms/step - loss: 0.1401 - accuracy: 0.9652 - val_loss: 0.1290 - val_accuracy: 0.9707\n",
      "Epoch 43/50\n",
      "19/19 [==============================] - 1s 34ms/step - loss: 0.1413 - accuracy: 0.9654 - val_loss: 0.1300 - val_accuracy: 0.9709\n",
      "Epoch 44/50\n",
      "19/19 [==============================] - 1s 35ms/step - loss: 0.1400 - accuracy: 0.9653 - val_loss: 0.1344 - val_accuracy: 0.9686\n",
      "Epoch 45/50\n",
      "19/19 [==============================] - 1s 34ms/step - loss: 0.1387 - accuracy: 0.9652 - val_loss: 0.1376 - val_accuracy: 0.9709\n",
      "Epoch 46/50\n",
      "19/19 [==============================] - 1s 34ms/step - loss: 0.1382 - accuracy: 0.9655 - val_loss: 0.1321 - val_accuracy: 0.9700\n",
      "Epoch 47/50\n",
      "19/19 [==============================] - 1s 36ms/step - loss: 0.1377 - accuracy: 0.9655 - val_loss: 0.1302 - val_accuracy: 0.9705\n",
      "Epoch 48/50\n",
      "19/19 [==============================] - 1s 34ms/step - loss: 0.1379 - accuracy: 0.9653 - val_loss: 0.1335 - val_accuracy: 0.9709\n",
      "Epoch 49/50\n",
      "19/19 [==============================] - 1s 33ms/step - loss: 0.1360 - accuracy: 0.9659 - val_loss: 0.1340 - val_accuracy: 0.9707\n",
      "Epoch 50/50\n",
      "19/19 [==============================] - 1s 33ms/step - loss: 0.1365 - accuracy: 0.9661 - val_loss: 0.1377 - val_accuracy: 0.9707\n"
     ]
    }
   ],
   "source": [
    "history = model.fit([Xtrain_enc, y_train_decoder], y_train,validation_split=0.20, epochs=50, verbose=1, batch_size=100)# validation_data=([X_test_enc, y_test_decoder], y_test)"
   ]
  },
  {
   "cell_type": "code",
   "execution_count": 39,
   "id": "fce4bfca",
   "metadata": {},
   "outputs": [
    {
     "name": "stdout",
     "output_type": "stream",
     "text": [
      "Train accuracy: 0.9665671586990356, Validation accuracy: 0.955691397190094\n"
     ]
    },
    {
     "data": {
      "image/png": "[encoded data removed]",
      "text/plain": [
       "<Figure size 800x320 with 2 Axes>"
      ]
     },
     "metadata": {},
     "output_type": "display_data"
    }
   ],
   "source": [
    "# evaluate the model\n",
    "_, train_acc = model.evaluate([Xtrain_enc, y_train_decoder], y_train, verbose=0)\n",
    "_, test_acc = model.evaluate([X_test_enc, y_test_decoder], y_test, verbose=0)\n",
    "print(f\"Train accuracy: {train_acc}, Validation accuracy: {test_acc}\")\n",
    "# plot loss during training\n",
    "pyplot.figure(figsize=(10, 4), dpi=80)\n",
    "pyplot.subplot(121)\n",
    "pyplot.title('Loss')\n",
    "pyplot.plot(history.history['loss'],     label='train')\n",
    "pyplot.plot(history.history['val_loss'], label='validation')\n",
    "pyplot.legend()\n",
    "# plot accuracy during training\n",
    "pyplot.subplot(122)\n",
    "pyplot.title('Accuracy')\n",
    "pyplot.plot(history.history['accuracy'], label='train')\n",
    "pyplot.plot(history.history['val_accuracy'], label='validation')\n",
    "pyplot.legend()\n",
    "pyplot.show()"
   ]
  },
  {
   "cell_type": "code",
   "execution_count": 40,
   "id": "31f46d63",
   "metadata": {},
   "outputs": [],
   "source": [
    "#feature_data_np.shape[1]"
   ]
  },
  {
   "cell_type": "code",
   "execution_count": 41,
   "id": "36bcb537",
   "metadata": {},
   "outputs": [],
   "source": [
    "#encoder_inputs = layers.Input(shape=(feature_data_np.shape[1],feature_data_np.shape[2]))\n",
    "encoder_outputs, enc_state_h, enc_state_c = encoder_lstm(encoder_inputs)\n",
    "encoder_model = Model(encoder_inputs, [encoder_outputs, enc_state_h, enc_state_c])\n",
    "\n",
    "decoder_state_input_h  = layers.Input(shape=(latent_dim,))\n",
    "decoder_state_input_c  = layers.Input(shape=(latent_dim,))\n",
    "encoder_decoder_inputs = layers.Input(shape=(None,latent_dim))\n",
    "\n",
    "decoder_states_inputs = [decoder_state_input_h, decoder_state_input_c]\n",
    "#decoder_states_inputs = [enc_state_h, enc_state_c]\n",
    "decoder_outputs, state_h, state_c = decoder_lstm(\n",
    "    decoder_inputs, initial_state=decoder_states_inputs)\n",
    "decoder_states = [state_h, state_c]\n",
    "decoder_outputs1 = concat_layer([decoder_outputs, encoder_decoder_inputs])\n",
    "decoder_outputs = decoder_dense(decoder_outputs1)\n",
    "decoder_model = Model(\n",
    "    [decoder_inputs,encoder_decoder_inputs] + decoder_states_inputs,\n",
    "    [decoder_outputs] + decoder_states)"
   ]
  },
  {
   "cell_type": "code",
   "execution_count": 42,
   "id": "2a8d2dae",
   "metadata": {},
   "outputs": [],
   "source": [
    "num_ip_infer = 10"
   ]
  },
  {
   "cell_type": "code",
   "execution_count": 43,
   "id": "1f31a04d",
   "metadata": {},
   "outputs": [],
   "source": [
    "def decode_sequence(input_seq, test_input, seq_len):\n",
    "    # Encode the input as state vectors.\n",
    "    encoder_outputs, enc_state_h, enc_state_c = encoder_model.predict(tf.expand_dims(input_seq, axis=0),verbose=0)\n",
    "    #print(encoder_outputs[:,0,:].reshape(1,1,128).shape)\n",
    "    states_value = [enc_state_h, enc_state_c]\n",
    "    \n",
    "    target_seq   = test_input[None,:,:]\n",
    "    #rint(target_seq.shape)\n",
    "  \n",
    "    stop_condition   = False\n",
    "    decoded_sentence = []\n",
    "    assert num_ip_infer < seq_len\n",
    "    i=1\n",
    "    enc_dec_input = encoder_outputs[:,i:i+num_ip_infer,:].reshape(1,num_ip_infer,latent_dim)\n",
    "#         print(enc_dec_input.shape)\n",
    "    output_tokens, h, c = decoder_model.predict(\n",
    "            [target_seq,enc_dec_input] + states_value, verbose=0)\n",
    "    index = np.argmax(output_tokens[:,-1,:])\n",
    "    target_seq = np.zeros((1, 1, num_class))\n",
    "    target_seq[0, 0, index] = 1\n",
    "        #print(target_seq)\n",
    "    i=i+num_ip_infer\n",
    "\n",
    "        # Update states\n",
    "    states_value = [h, c]\n",
    "    decoded_sentence.append(target_seq[0,0,:])\n",
    "    \n",
    "    while not stop_condition:\n",
    "        enc_dec_input = encoder_outputs[:,i,:].reshape(1,1,latent_dim)\n",
    "#         print(enc_dec_input.shape)\n",
    "        output_tokens, h, c = decoder_model.predict(\n",
    "            [target_seq,enc_dec_input] + states_value, verbose=0)\n",
    "        #print(\"op\",output_tokens.shape)\n",
    "        \n",
    "        index = np.argmax(output_tokens)\n",
    "        # Exit condition: either hit max length\n",
    "        # or find stop character.\n",
    "        if len(decoded_sentence)+1 >= seq_len-(num_ip_infer-1):\n",
    "            stop_condition = True\n",
    "\n",
    "        # Update the target sequence (of length 1).\n",
    "        \n",
    "        #print(index)\n",
    "        \n",
    "        target_seq = np.zeros((1, 1, num_class))\n",
    "        target_seq[0, 0, index] = 1\n",
    "        #print(target_seq)\n",
    "        i=i+1\n",
    "\n",
    "        # Update states\n",
    "        states_value = [h, c]\n",
    "        decoded_sentence.append(target_seq[0,0,:])\n",
    "\n",
    "    return np.array(decoded_sentence)"
   ]
  },
  {
   "cell_type": "code",
   "execution_count": 44,
   "id": "24a73aab",
   "metadata": {},
   "outputs": [],
   "source": [
    "#  print(enc_dec_input.shape)"
   ]
  },
  {
   "cell_type": "code",
   "execution_count": 45,
   "id": "28831e59",
   "metadata": {},
   "outputs": [
    {
     "name": "stdout",
     "output_type": "stream",
     "text": [
      "Test data index: 89\n"
     ]
    }
   ],
   "source": [
    "test_data_id = random.choice(range(X_test_enc.shape[0]))\n",
    "print(f\"Test data index: {test_data_id}\")\n",
    "test_data_ip = X_test_enc[test_data_id], y_test_decoder[test_data_id,0:num_ip_infer,:]"
   ]
  },
  {
   "cell_type": "code",
   "execution_count": 46,
   "id": "17f91ac2",
   "metadata": {},
   "outputs": [
    {
     "data": {
      "text/plain": [
       "(10, 3)"
      ]
     },
     "execution_count": 46,
     "metadata": {},
     "output_type": "execute_result"
    }
   ],
   "source": [
    "test_data_ip[1].shape"
   ]
  },
  {
   "cell_type": "code",
   "execution_count": 47,
   "id": "c31990c5",
   "metadata": {},
   "outputs": [
    {
     "data": {
      "text/plain": [
       "(1, 1, 3)"
      ]
     },
     "execution_count": 47,
     "metadata": {},
     "output_type": "execute_result"
    }
   ],
   "source": [
    "y_test_decoder[125,0,:][None,None,:].shape"
   ]
  },
  {
   "cell_type": "code",
   "execution_count": 48,
   "id": "12b359d1",
   "metadata": {},
   "outputs": [],
   "source": [
    "predicted_value = decode_sequence(*test_data_ip, seq_len)"
   ]
  },
  {
   "cell_type": "code",
   "execution_count": 49,
   "id": "491892cc",
   "metadata": {},
   "outputs": [
    {
     "data": {
      "text/plain": [
       "(2, 3)"
      ]
     },
     "execution_count": 49,
     "metadata": {},
     "output_type": "execute_result"
    }
   ],
   "source": [
    "predicted_value.shape"
   ]
  },
  {
   "cell_type": "code",
   "execution_count": 50,
   "id": "15153f5e",
   "metadata": {},
   "outputs": [
    {
     "data": {
      "text/plain": [
       "(2, 3)"
      ]
     },
     "execution_count": 50,
     "metadata": {},
     "output_type": "execute_result"
    }
   ],
   "source": [
    "y_test[test_data_id][num_ip_infer-1:,:].shape"
   ]
  },
  {
   "cell_type": "code",
   "execution_count": 51,
   "id": "e7e0dd55",
   "metadata": {},
   "outputs": [
    {
     "data": {
      "text/plain": [
       "array([0, 0])"
      ]
     },
     "execution_count": 51,
     "metadata": {},
     "output_type": "execute_result"
    }
   ],
   "source": [
    "np.argmax(y_test[test_data_id][num_ip_infer-1:,:], axis=1)"
   ]
  },
  {
   "cell_type": "code",
   "execution_count": 52,
   "id": "888bd21c",
   "metadata": {},
   "outputs": [
    {
     "name": "stdout",
     "output_type": "stream",
     "text": [
      "Output Correct: True\n"
     ]
    }
   ],
   "source": [
    "print(f\"Output Correct: {np.all(predicted_value==y_test[test_data_id][num_ip_infer-1:,:])}\")"
   ]
  },
  {
   "cell_type": "code",
   "execution_count": 53,
   "id": "d44fedfc",
   "metadata": {},
   "outputs": [],
   "source": [
    "#seq_len"
   ]
  },
  {
   "cell_type": "code",
   "execution_count": 54,
   "id": "6657c1e8",
   "metadata": {},
   "outputs": [],
   "source": [
    "predicted_index = []\n",
    "actual_index    = []\n",
    "for x,y_i,y in zip(X_test_enc, y_test_decoder, y_test):\n",
    "    test_data_input = x, y_i[0:num_ip_infer,:]\n",
    "    predicted_value = decode_sequence(*test_data_input, seq_len)\n",
    "    predicted_index.append(np.argmax(predicted_value, axis=1))\n",
    "    actual_index.append(np.argmax(y[num_ip_infer-1:,:], axis=1))"
   ]
  },
  {
   "cell_type": "code",
   "execution_count": 55,
   "id": "d5907e2d",
   "metadata": {},
   "outputs": [],
   "source": [
    "#actual_index"
   ]
  },
  {
   "cell_type": "code",
   "execution_count": 56,
   "id": "e80a2c2f",
   "metadata": {},
   "outputs": [],
   "source": [
    "#predicted_index"
   ]
  },
  {
   "cell_type": "code",
   "execution_count": 57,
   "id": "8a1866b9",
   "metadata": {},
   "outputs": [],
   "source": [
    "accuracy = [1 if np.array_equal(p, a) else 0 for p, a in zip(predicted_index, actual_index)]"
   ]
  },
  {
   "cell_type": "code",
   "execution_count": 58,
   "id": "24a79d6f",
   "metadata": {},
   "outputs": [
    {
     "name": "stdout",
     "output_type": "stream",
     "text": [
      "[1, 1, 1, 1, 1, 1, 1, 0, 1, 1, 1, 1, 1, 1, 1, 1, 1, 1, 1, 1, 1, 0, 1, 1, 1, 1, 1, 1, 1, 1, 0, 0, 1, 1, 1, 0, 1, 1, 1, 1, 0, 0, 1, 1, 1, 1, 1, 1, 1, 1, 1, 1, 1, 1, 1, 1, 1, 0, 1, 1, 1, 1, 1, 1, 1, 1, 1, 0, 0, 1, 1, 1, 1, 1, 1, 1, 1, 1, 1, 1, 1, 1, 0, 1, 1, 1, 1, 0, 0, 1, 1, 1, 1, 1, 1, 0, 1, 0, 1, 1, 1, 1, 1, 1, 1, 1, 0, 1, 1, 1, 0, 0, 1, 1, 0, 1, 1, 1, 0, 1, 0, 1, 1, 1, 1, 1, 1, 1, 1, 1, 1, 1, 1, 1, 1, 0, 0, 1, 1, 1, 1, 1, 1, 0, 1, 1, 1, 1, 1, 1, 1, 1, 1, 1, 1, 1, 1, 1, 1, 1, 1, 1, 1, 1, 0, 1, 0, 0, 1, 1, 1, 1, 1, 1, 1, 1, 1, 1, 1, 1, 1, 1, 1, 0, 0, 1, 1, 1, 1, 1, 1, 1, 1, 1, 1, 1, 0, 1, 1, 1, 1, 1, 1, 1, 1, 1, 1, 1, 1, 1, 0, 0, 1, 1, 1, 1, 1, 1, 1, 1, 0, 1, 1, 1, 1, 1, 1, 1, 1, 1, 1, 1, 1, 1, 1, 1, 1, 1]\n"
     ]
    }
   ],
   "source": [
    "print(accuracy)"
   ]
  },
  {
   "cell_type": "code",
   "execution_count": 59,
   "id": "f49eedb1",
   "metadata": {},
   "outputs": [
    {
     "data": {
      "text/plain": [
       "1    205\n",
       "0     33\n",
       "dtype: int64"
      ]
     },
     "execution_count": 59,
     "metadata": {},
     "output_type": "execute_result"
    }
   ],
   "source": [
    "pd.value_counts(np.array(accuracy))"
   ]
  },
  {
   "cell_type": "code",
   "execution_count": 60,
   "id": "68fa7936",
   "metadata": {},
   "outputs": [
    {
     "data": {
      "text/plain": [
       "0.86"
      ]
     },
     "execution_count": 60,
     "metadata": {},
     "output_type": "execute_result"
    }
   ],
   "source": [
    "round(sum(accuracy)/len(accuracy),2)"
   ]
  },
  {
   "cell_type": "code",
   "execution_count": 61,
   "id": "23f815ee",
   "metadata": {},
   "outputs": [
    {
     "data": {
      "text/plain": [
       "array([1, 1])"
      ]
     },
     "execution_count": 61,
     "metadata": {},
     "output_type": "execute_result"
    }
   ],
   "source": [
    "predicted_index[35]"
   ]
  },
  {
   "cell_type": "code",
   "execution_count": 62,
   "id": "51433de5",
   "metadata": {},
   "outputs": [
    {
     "data": {
      "text/plain": [
       "array([1, 2])"
      ]
     },
     "execution_count": 62,
     "metadata": {},
     "output_type": "execute_result"
    }
   ],
   "source": [
    "actual_index[35]"
   ]
  },
  {
   "cell_type": "code",
   "execution_count": 63,
   "id": "3f50ac12",
   "metadata": {},
   "outputs": [],
   "source": [
    "# print(accuracy)"
   ]
  },
  {
   "cell_type": "code",
   "execution_count": 64,
   "id": "06dbf070",
   "metadata": {},
   "outputs": [
    {
     "data": {
      "text/plain": [
       "238"
      ]
     },
     "execution_count": 64,
     "metadata": {},
     "output_type": "execute_result"
    }
   ],
   "source": [
    "len(predicted_index)"
   ]
  },
  {
   "cell_type": "code",
   "execution_count": 65,
   "id": "4fe1c4e4",
   "metadata": {},
   "outputs": [
    {
     "data": {
      "text/plain": [
       "238"
      ]
     },
     "execution_count": 65,
     "metadata": {},
     "output_type": "execute_result"
    }
   ],
   "source": [
    "len(actual_index)"
   ]
  },
  {
   "cell_type": "code",
   "execution_count": 66,
   "id": "6a846a77",
   "metadata": {},
   "outputs": [
    {
     "data": {
      "text/plain": [
       "(238, 12, 20)"
      ]
     },
     "execution_count": 66,
     "metadata": {},
     "output_type": "execute_result"
    }
   ],
   "source": [
    "X_test_enc.shape"
   ]
  },
  {
   "cell_type": "code",
   "execution_count": 67,
   "id": "236a244d",
   "metadata": {},
   "outputs": [
    {
     "data": {
      "text/plain": [
       "(238, 11, 3)"
      ]
     },
     "execution_count": 67,
     "metadata": {},
     "output_type": "execute_result"
    }
   ],
   "source": [
    "y_test_decoder.shape"
   ]
  },
  {
   "cell_type": "code",
   "execution_count": 68,
   "id": "7f745a2b",
   "metadata": {},
   "outputs": [],
   "source": [
    "predicted_op = np.array(predicted_index)\n",
    "actual_op    = np.array(actual_index)"
   ]
  },
  {
   "cell_type": "code",
   "execution_count": 69,
   "id": "8d4cdeb7",
   "metadata": {},
   "outputs": [],
   "source": [
    "acc = []\n",
    "for i in range(seq_len-(num_ip_infer-1)):\n",
    "    acc.append(np.sum(predicted_op[:,i]==actual_op[:,i])/predicted_op.shape[0])"
   ]
  },
  {
   "cell_type": "code",
   "execution_count": 70,
   "id": "6c6b9124",
   "metadata": {},
   "outputs": [
    {
     "data": {
      "text/plain": [
       "94"
      ]
     },
     "execution_count": 70,
     "metadata": {},
     "output_type": "execute_result"
    }
   ],
   "source": [
    "np.sum(predicted_op[:,i]==1)"
   ]
  },
  {
   "cell_type": "code",
   "execution_count": 71,
   "id": "91867e98",
   "metadata": {},
   "outputs": [],
   "source": [
    "acc_1 = []"
   ]
  },
  {
   "cell_type": "code",
   "execution_count": 72,
   "id": "1221a47b",
   "metadata": {},
   "outputs": [
    {
     "data": {
      "text/plain": [
       "array([[1, 1],\n",
       "       [0, 0],\n",
       "       [2, 2],\n",
       "       [2, 2],\n",
       "       [2, 2],\n",
       "       [0, 0],\n",
       "       [1, 1],\n",
       "       [2, 2],\n",
       "       [0, 0],\n",
       "       [2, 2]])"
      ]
     },
     "execution_count": 72,
     "metadata": {},
     "output_type": "execute_result"
    }
   ],
   "source": [
    "actual_op[0:10,:]"
   ]
  },
  {
   "cell_type": "code",
   "execution_count": 73,
   "id": "2d4a5aa7",
   "metadata": {},
   "outputs": [],
   "source": [
    "index = np.where(actual_op[:,1]==1)"
   ]
  },
  {
   "cell_type": "code",
   "execution_count": 74,
   "id": "dce0b649",
   "metadata": {},
   "outputs": [
    {
     "data": {
      "text/plain": [
       "75"
      ]
     },
     "execution_count": 74,
     "metadata": {},
     "output_type": "execute_result"
    }
   ],
   "source": [
    "index[0].shape[0]"
   ]
  },
  {
   "cell_type": "code",
   "execution_count": 75,
   "id": "5114bd16",
   "metadata": {},
   "outputs": [
    {
     "data": {
      "text/plain": [
       "(94,)"
      ]
     },
     "execution_count": 75,
     "metadata": {},
     "output_type": "execute_result"
    }
   ],
   "source": [
    "np.where(predicted_op[:,1]==1)[0].shape"
   ]
  },
  {
   "cell_type": "code",
   "execution_count": 76,
   "id": "3ed25d1a",
   "metadata": {},
   "outputs": [
    {
     "data": {
      "text/plain": [
       "(238, 2)"
      ]
     },
     "execution_count": 76,
     "metadata": {},
     "output_type": "execute_result"
    }
   ],
   "source": [
    "predicted_op.shape"
   ]
  },
  {
   "cell_type": "code",
   "execution_count": 77,
   "id": "a0479478",
   "metadata": {},
   "outputs": [],
   "source": [
    "acc = []\n",
    "for i in range(seq_len-(num_ip_infer-1)):\n",
    "    acc.append(np.sum(predicted_op[:,i]==actual_op[:,i])/predicted_op.shape[0])"
   ]
  },
  {
   "cell_type": "code",
   "execution_count": 78,
   "id": "c45c4d3a",
   "metadata": {
    "scrolled": true
   },
   "outputs": [
    {
     "data": {
      "text/plain": [
       "[0.9201680672268907, 0.8697478991596639]"
      ]
     },
     "execution_count": 78,
     "metadata": {},
     "output_type": "execute_result"
    }
   ],
   "source": [
    "acc"
   ]
  },
  {
   "cell_type": "code",
   "execution_count": 79,
   "id": "fa05503f",
   "metadata": {},
   "outputs": [
    {
     "name": "stdout",
     "output_type": "stream",
     "text": [
      " Average Test Accuracy:  0.89\n",
      "Standard Deviation is 0.03565244274890151 \n"
     ]
    }
   ],
   "source": [
    "print(\" Average Test Accuracy: \", round((sum(acc[:]))/len(acc[:]),2))\n",
    "print(\"Standard Deviation is % s \"\n",
    "                % (statistics.stdev(acc)))"
   ]
  },
  {
   "cell_type": "code",
   "execution_count": 80,
   "id": "63533f14",
   "metadata": {},
   "outputs": [
    {
     "data": {
      "image/png": "[encoded data removed]",
      "text/plain": [
       "<Figure size 640x480 with 1 Axes>"
      ]
     },
     "metadata": {},
     "output_type": "display_data"
    }
   ],
   "source": [
    "y = acc\n",
    "x = range(num_ip_infer,seq_len+1)\n",
    "#default_x_ticks = range(len(x))\n",
    "plt.xlabel(\"Number of Time Points\")\n",
    "plt.ylabel(\"Test Accuracy\")\n",
    "plt.plot(x, y)\n",
    "plt.xticks(x, x)\n",
    "plt.show()"
   ]
  },
  {
   "cell_type": "code",
   "execution_count": 81,
   "id": "79615f60",
   "metadata": {},
   "outputs": [],
   "source": [
    "###############################################################################"
   ]
  },
  {
   "cell_type": "code",
   "execution_count": 82,
   "id": "485922c5",
   "metadata": {},
   "outputs": [],
   "source": [
    "#np.where(actual_op[:,i]==0)"
   ]
  },
  {
   "cell_type": "code",
   "execution_count": 83,
   "id": "3522b678",
   "metadata": {},
   "outputs": [],
   "source": [
    "acc1=[]\n",
    "for j in range(0,3):\n",
    "    temp=[]\n",
    "    for i in range(seq_len-(num_ip_infer-1)):\n",
    "        actual_index1 = np.where(actual_op[:,i]==j)\n",
    "        temp.append(np.sum(predicted_op[actual_index1,i]==actual_op[actual_index1,i])/actual_index1[0].shape[0])\n",
    "    acc1.append(temp)"
   ]
  },
  {
   "cell_type": "code",
   "execution_count": 84,
   "id": "edbb4719",
   "metadata": {},
   "outputs": [
    {
     "data": {
      "text/plain": [
       "[[0.927536231884058, 0.9076923076923077],\n",
       " [0.9620253164556962, 0.92],\n",
       " [0.8777777777777778, 0.8061224489795918]]"
      ]
     },
     "execution_count": 84,
     "metadata": {},
     "output_type": "execute_result"
    }
   ],
   "source": [
    "acc1"
   ]
  },
  {
   "cell_type": "code",
   "execution_count": 85,
   "id": "943f0839",
   "metadata": {},
   "outputs": [
    {
     "name": "stdout",
     "output_type": "stream",
     "text": [
      "Average CN accuracy:  0.16683895814330596\n",
      "Average MCI accyracy: 0.17109321058688148\n",
      "Average AD accuracy: 0.15308183879612453\n"
     ]
    }
   ],
   "source": [
    "cn_acc = (np.sum(acc1[0]))/11\n",
    "mci_acc = (np.sum(acc1[1]))/11\n",
    "ad_acc = (np.sum(acc1[2]))/11\n",
    "\n",
    "print(\"Average CN accuracy: \", cn_acc)\n",
    "print(\"Average MCI accyracy:\", mci_acc)\n",
    "print(\"Average AD accuracy:\", ad_acc)"
   ]
  },
  {
   "cell_type": "code",
   "execution_count": 86,
   "id": "c023e9ba",
   "metadata": {},
   "outputs": [],
   "source": [
    "from matplotlib import pyplot as plt"
   ]
  },
  {
   "cell_type": "code",
   "execution_count": 87,
   "id": "cd70835c",
   "metadata": {},
   "outputs": [],
   "source": [
    "# y = [acc1[0],acc1[1],acc1[2],acc]\n",
    "# x = [1, 2, 3, 4, 5, 6, 7, 8, 9, 10, 11]\n",
    "# plt.plot(acc1[0], label=\"CN\")\n",
    "# plt.plot(acc1[1], label=\"MCI\")\n",
    "# plt.plot(acc1[2], label=\"AD\")\n",
    "# plt.plot(acc, label=\"Total Accuracy\")\n",
    "# plt.xlabel(\"Number of Time Points\")\n",
    "# plt.ylabel(\"Test Accuracy\")\n",
    "\n",
    "# default_x_ticks = range(len(x))\n",
    "# plt.xticks(default_x_ticks, x)\n",
    "# plt.legend()\n",
    "# plt.show() "
   ]
  },
  {
   "cell_type": "code",
   "execution_count": 88,
   "id": "40f2cdd7",
   "metadata": {},
   "outputs": [
    {
     "data": {
      "image/png": "[encoded data removed]",
      "text/plain": [
       "<Figure size 640x480 with 1 Axes>"
      ]
     },
     "metadata": {},
     "output_type": "display_data"
    }
   ],
   "source": [
    "y = [acc1[0],acc1[1],acc1[2],acc]\n",
    "x = range(num_ip_infer,seq_len+1)\n",
    "plt.plot(x,y[0], label=\"CN\")\n",
    "plt.plot(x,y[1], label=\"MCI\")\n",
    "plt.plot(x,y[2], label=\"AD\")\n",
    "plt.plot(x,y[3], label=\"Total Accuracy\")\n",
    "plt.xlabel(\"Number of Time Points\")\n",
    "plt.ylabel(\"Test Accuracy\")\n",
    "\n",
    "#default_x_ticks = range(len(x))\n",
    "plt.xticks(x, x)\n",
    "plt.legend()\n",
    "plt.show() "
   ]
  },
  {
   "cell_type": "code",
   "execution_count": null,
   "id": "28109523",
   "metadata": {},
   "outputs": [],
   "source": []
  }
 ],
 "metadata": {
  "kernelspec": {
   "display_name": "Python 3 (ipykernel)",
   "language": "python",
   "name": "python3"
  },
  "language_info": {
   "codemirror_mode": {
    "name": "ipython",
    "version": 3
   },
   "file_extension": ".py",
   "mimetype": "text/x-python",
   "name": "python",
   "nbconvert_exporter": "python",
   "pygments_lexer": "ipython3",
   "version": "3.8.11"
  }
 },
 "nbformat": 4,
 "nbformat_minor": 5
}
